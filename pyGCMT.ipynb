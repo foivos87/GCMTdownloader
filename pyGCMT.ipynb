{
 "cells": [
  {
   "cell_type": "markdown",
   "id": "ad28d208",
   "metadata": {},
   "source": [
    "# GLOBAL CMT DOWNLOADER"
   ]
  },
  {
   "cell_type": "markdown",
   "id": "ecabd602",
   "metadata": {},
   "source": [
    "This is a python script to download directly the Global CMT solutions for a range of requested events, using the IRIS.edu query.\n",
    "\n",
    "© Foivos Karakostas - INGV Bologna, 2022"
   ]
  },
  {
   "cell_type": "code",
   "execution_count": null,
   "id": "f19cb73d",
   "metadata": {},
   "outputs": [],
   "source": [
    "import obspy\n",
    "from obspy.clients.fdsn import Client as fdsnClient\n",
    "from obspy.core import UTCDateTime\n",
    "from obspy import read_events\n",
    "import requests\n",
    "import csv\n",
    "import xml.etree.ElementTree as ET"
   ]
  },
  {
   "cell_type": "markdown",
   "id": "b1720bb0",
   "metadata": {},
   "source": [
    "##### Insert the region of the survey and the magnitudes of the requested events"
   ]
  },
  {
   "cell_type": "code",
   "execution_count": null,
   "id": "dfaf0bf3",
   "metadata": {
    "scrolled": false
   },
   "outputs": [],
   "source": [
    "print ('Global CMT solutions downloader from IRIS.edu database')\n",
    "print ('© Foivos Karakostas - INGV Bologna, 2022')\n",
    "print ('- - - - - - - - - - - - - - - - - - - - - - - - - - - -')\n",
    "print (' ')\n",
    "time1 = input('Starting time (year,month,day,Hour,Minute,Seconds): ')\n",
    "time2 = input('Ending time (year,month,day,Hour,Minute,Seconds): ')\n",
    "minlat = float(input('Minimum latitude (default = -90): ') or '-90')\n",
    "maxlat = float(input('Maximum latitude (default = +90): ') or '90')\n",
    "minlon = float(input('Minimum longitude (default = -180): ') or '-180')\n",
    "maxlon = float(input('Maximum longitude (default = +180): ') or '180')\n",
    "minmag = float(input('Minimum magnitude (Mw) (default = 6): ') or '6')\n",
    "maxmag = float(input('Maximum magnitude (Mw) (default = 9.9): ') or '9.9')\n",
    "starttime = UTCDateTime(time1)\n",
    "endtime = UTCDateTime(time2)\n",
    "c_fdsn = fdsnClient('IRIS')\n",
    "cat = c_fdsn.get_events(minlatitude = minlat, maxlatitude = maxlat, minlongitude = minlon, maxlongitude = maxlon, minmagnitude=minmag, maxmagnitude=maxmag, starttime = starttime, endtime = endtime, includeallorigins=True)\n",
    "print (' ')\n",
    "print (str(len(cat)), ' event(s) found')\n",
    "print (' ')\n",
    "ns = {\"q\":\"http://quakeml.org/xmlns/quakeml/1.2\",\n",
    "       \"d\":\"http://quakeml.org/xmlns/bed/1.2\",\n",
    "        \"catalog\":\"http://anss.org/xmlns/catalog/0.1\",\n",
    "        \"tensor\":\"http://anss.org/xmlns/tensor/0.1\"}\n",
    "line01 = []; line02 = []; line03 = []; line04 = []; line05 = []; line06 = []; line07 = []; line08 = []; line09 = []\n",
    "line10 = []; line11 = []; line12 = []; line13 = []; failed = 0; successful = 0\n",
    "filename = 'CMTSOLUTIONS'\n",
    "for e in range(0, len(cat)):\n",
    "    eventtime = UTCDateTime(cat[e].origins[0].time)\n",
    "    url = ('http://ds.iris.edu/spudservice/momenttensor/gcmtid/C' + str(eventtime.year).zfill(4) + str(eventtime.month).zfill(2) + str(eventtime.day).zfill(2) + str(eventtime.hour).zfill(2) + str(eventtime.minute).zfill(2) +'A/quakeml')\n",
    "    r = requests.get(url, allow_redirects=True)\n",
    "    r.raw.decode_content = True\n",
    "    local_file = 'temp.xml'\n",
    "    with open(local_file, 'wb')as file:\n",
    "        file.write(r.content)  \n",
    "    with open('temp.xml', 'r') as file :\n",
    "        filedata = file.read()\n",
    "        filedata = filedata.replace('&lt;', '<'); filedata = filedata.replace('&gt;', '>')\n",
    "        filedata = filedata.replace('<pre>', ''); filedata = filedata.replace('<body>', '')\n",
    "        filedata = filedata.replace('<html>', ''); filedata = filedata.replace('</pre>', '')\n",
    "        filedata = filedata.replace('</body>', ''); filedata = filedata.replace('</html>', '')\n",
    "    with open('temp.xml', 'w') as file:\n",
    "        file.write(filedata)\n",
    "    filetemp = open('temp.xml', 'r')\n",
    "    Lines = filetemp.readlines()\n",
    "    line2test = str(Lines[0])\n",
    "    testline = line2test[0:9]\n",
    "    if testline == 'Error 400':\n",
    "        failed = failed + 1\n",
    "        print('Processed successfully ',str(\"{:.0f}\".format(successful).rjust(5)),' event(s) and ', str(\"{:.0f}\".format(failed).rjust(5)),' event(s) failed - TOTAL: ', str(\"{:.0f}\".format(e+1).rjust(5)), 'events or ', str(\"{:.2f}\".format(((e+1)/len(cat))*100).rjust(6)), '% done', end='\\r')\n",
    "        #time.sleep(1)\n",
    "    else:\n",
    "        successful = successful + 1\n",
    "        print('Processed successfully ',str(\"{:.0f}\".format(successful).rjust(5)),' event(s) and ', str(\"{:.0f}\".format(failed).rjust(5)),' event(s) failed - TOTAL: ', str(\"{:.0f}\".format(e+1).rjust(5)), 'events or ', str(\"{:.2f}\".format(((e+1)/len(cat))*100).rjust(6)), '% done', end='\\r')\n",
    "        #time.sleep(1)\n",
    "        tree = ET.parse('temp.xml')\n",
    "        root = tree.getroot()\n",
    "        eventlist = root.findall('d:eventParameters',ns)\n",
    "        cat2 = read_events('temp.xml','quakeml')\n",
    "        Mwc = 0\n",
    "        Mb = 0\n",
    "        Magnitudes = cat2[0].magnitudes\n",
    "        Magtype = []\n",
    "        for o in range(0, len(Magnitudes)):\n",
    "            Magtype.append(Magnitudes[o].magnitude_type)\n",
    "            if Magtype[o] == 'Mwc':\n",
    "                Mwc = Magnitudes[o].mag;\n",
    "            if Magtype[o] == 'Mb':\n",
    "                Mb = Magnitudes[o].mag;\n",
    "        eventtime = cat2[0].origins[0].time;\n",
    "        strmicro = str(eventtime.microsecond);\n",
    "        line01.append(' PDEQ ' + str(eventtime.year).rjust(4) + ' ' + str(eventtime.month).rjust(2) + ' ' + str(eventtime.day).rjust(2) + ' ' + str(eventtime.hour).rjust(2) + ' ' + str(eventtime.minute).rjust(2) + ' ' + str(eventtime.second).rjust(2) + '.' + strmicro[0:2] + ' ' + str(\"{:-.4f}\".format(cat2[0].origins[0].latitude)).rjust(8) + ' ' + str(\"{:-.4f}\".format(cat2[0].origins[0].longitude)).rjust(8) + ' ' + str(cat2[0].origins[1].depth/1000) + '  ' + str(\"{:-.1f}\".format(Mb)).rjust(3) + '  ' + str(\"{:-.1f}\".format(Mwc)).rjust(3) + ' ' + cat2[0].event_descriptions[0].text)    \n",
    "        enam = str(cat2[0].origins[0].resource_id)\n",
    "        line02.append('event name:      ' + enam[50:-10])   \n",
    "        # Find the time shift\n",
    "        correctedtime = cat2[0].origins[1].time;\n",
    "        timeshift = correctedtime - eventtime\n",
    "        line03.append('time shift:      ' + str(\"{:.4f}\".format(timeshift)).rjust(7))\n",
    "        line04.append('half duration:   ' + str(\"{:.4f}\".format(cat2[0].focal_mechanisms[0].moment_tensor.source_time_function.duration/2)).rjust(7))\n",
    "        line05.append('latitude:       ' + str(\"{:-.4f}\".format(cat2[0].origins[1].latitude)).rjust(8))\n",
    "        line06.append('longitude:      ' + str(\"{:-.4f}\".format(cat2[0].origins[1].longitude)).rjust(8))\n",
    "        line07.append('depth:          ' + str(\"{:.4f}\".format(cat2[0].origins[1].depth/1000)).rjust(8))\n",
    "        line08.append('Mrr:       ' + str(\"{:-.6e}\".format(cat2[0].focal_mechanisms[0].moment_tensor.tensor.m_rr*1e7)).rjust(13))\n",
    "        line09.append('Mtt:       ' + str(\"{:-.6e}\".format(cat2[0].focal_mechanisms[0].moment_tensor.tensor.m_tt*1e7)).rjust(13))\n",
    "        line10.append('Mpp:       ' + str(\"{:-.6e}\".format(cat2[0].focal_mechanisms[0].moment_tensor.tensor.m_pp*1e7)).rjust(13))\n",
    "        line11.append('Mrt:       ' + str(\"{:-.6e}\".format(cat2[0].focal_mechanisms[0].moment_tensor.tensor.m_rt*1e7)).rjust(13))\n",
    "        line12.append('Mrp:       ' + str(\"{:-.6e}\".format(cat2[0].focal_mechanisms[0].moment_tensor.tensor.m_rp*1e7)).rjust(13))\n",
    "        line13.append('Mtp:       ' + str(\"{:-.6e}\".format(cat2[0].focal_mechanisms[0].moment_tensor.tensor.m_tp*1e7)).rjust(13))\n",
    "with open(filename, 'w') as f:\n",
    "    for tt in range(0, len(line01)):\n",
    "        f.write(line01[tt]); f.write('\\n'); f.write(line02[tt]); f.write('\\n'); f.write(line03[tt]); f.write('\\n')\n",
    "        f.write(line04[tt]); f.write('\\n'); f.write(line05[tt]); f.write('\\n'); f.write(line06[tt]); f.write('\\n')\n",
    "        f.write(line07[tt]); f.write('\\n'); f.write(line08[tt]); f.write('\\n'); f.write(line09[tt]); f.write('\\n')\n",
    "        f.write(line10[tt]); f.write('\\n'); f.write(line11[tt]); f.write('\\n'); f.write(line12[tt]); f.write('\\n')\n",
    "        f.write(line13[tt]); f.write('\\n'); f.write('\\n')    \n",
    "print ('\\n', end = '\\n')\n",
    "print ('The CMT catalog is ready, it is stored in the `CMTSOLUTIONS` file')"
   ]
  },
  {
   "cell_type": "markdown",
   "id": "26403257",
   "metadata": {},
   "source": [
    "##### Generate a map of the focal mechanisms (beachballs) with pyGMT"
   ]
  },
  {
   "cell_type": "code",
   "execution_count": null,
   "id": "2c6c15da",
   "metadata": {},
   "outputs": [],
   "source": [
    "import pygmt\n",
    "import matplotlib\n",
    "latcen = (maxlat + minlat)/2; loncen = (maxlon + minlon)/2;\n",
    "grid = pygmt.datasets.load_earth_relief(resolution=\"01m\", region=[minlon, maxlon, minlat, maxlat])\n",
    "fig = pygmt.Figure()\n",
    "pygmt.makecpt(series=[-8000, 8000], cmap='geo')\n",
    "projection_str = ['Cyl_stere/' + str(loncen) + '/' + str(latcen) + '/12c']\n",
    "fig.grdimage(grid=grid, projection=projection_str, frame=\"a\", cmap=True)\n",
    "cat = obspy.read_events('CMTSOLUTIONS')\n",
    "cmap2 = matplotlib.cm.get_cmap('jet')\n",
    "for e in range (0, len(cat)):\n",
    "    moment_tensor = cat[e].focal_mechanisms[0].moment_tensor;\n",
    "    longitude = cat[e].origins[0].longitude;\n",
    "    latitude = cat[e].origins[0].latitude;\n",
    "    depth = cat[e].origins[0].depth;\n",
    "    mrr = moment_tensor.tensor.m_rr;\n",
    "    mtt = moment_tensor.tensor.m_tt;\n",
    "    mpp = moment_tensor.tensor.m_pp;\n",
    "    mrt = moment_tensor.tensor.m_rt;\n",
    "    mrp = moment_tensor.tensor.m_rp;\n",
    "    mtp = moment_tensor.tensor.m_tp;\n",
    "    mt = [mrr, mtt, mpp, mrt, mrp, mtp];\n",
    "    rgba = cmap2(depth/200000);\n",
    "    colorhex = matplotlib.colors.to_hex(rgba, keep_alpha=True)\n",
    "    focal_mechanism = dict(mrr=mrr, mtt=mtt, mff=mpp, mrt=mrt, mrf=mrp, mtf=mtp, exponent=17);\n",
    "    fig.meca(focal_mechanism, scale=\"0.07c\", longitude=longitude, latitude=latitude, depth=depth, G=colorhex);\n",
    "pygmt.makecpt(series=[0, 200], cmap='jet');\n",
    "fig.colorbar(frame='af+l\"Depth (km)\"')\n",
    "fig.show()"
   ]
  },
  {
   "cell_type": "code",
   "execution_count": null,
   "id": "dc90894a",
   "metadata": {},
   "outputs": [],
   "source": []
  }
 ],
 "metadata": {
  "kernelspec": {
   "display_name": "Python 3 (ipykernel)",
   "language": "python",
   "name": "python3"
  },
  "language_info": {
   "codemirror_mode": {
    "name": "ipython",
    "version": 3
   },
   "file_extension": ".py",
   "mimetype": "text/x-python",
   "name": "python",
   "nbconvert_exporter": "python",
   "pygments_lexer": "ipython3",
   "version": "3.8.8"
  }
 },
 "nbformat": 4,
 "nbformat_minor": 5
}
